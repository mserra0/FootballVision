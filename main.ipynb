{
 "cells": [
  {
   "cell_type": "markdown",
   "metadata": {},
   "source": [
    "# Football Match Analysis Notebook\n",
    "\n",
    "## Project Overview\n",
    "This notebook implements a comprehensive football match analysis system using computer vision and machine learning techniques. The goal is to extract detailed insights from a single image or video frame, including:\n",
    "- Player and ball tracking\n",
    "- Team identification\n",
    "- Ball possession analysis\n",
    "- Camera movement tracking\n",
    "\n",
    "## Key Components\n",
    "- **Object Detection**: Uses YOLOv5 for identifying players, ball, and referees\n",
    "- **Team Assignment**: Classifies players into teams based on jersey colors\n",
    "- **Ball Tracking**: Interpolates ball trajectory and determines possession\n",
    "- **Camera Movement**: Compensates for camera shifts to maintain accurate tracking\n",
    "\n",
    "## Technical Workflow\n",
    "1. Load video/image frame\n",
    "2. Detect and track objects\n",
    "3. Assign team colors\n",
    "4. Determine ball possession\n",
    "5. Analyze player movements\n",
    "6. Visualize results\n",
    "\n",
    "## Technical Dependencies\n",
    "- OpenCV for image processing\n",
    "- NumPy for numerical operations\n",
    "- Custom tracking modules for specialized football analysis\n",
    "\n",
    "## Future Improvements\n",
    "- Multi-frame video analysis\n",
    "- More sophisticated team and player tracking\n",
    "- Advanced ball possession metrics\n",
    "- Performance optimization"
   ]
  },
  {
   "cell_type": "code",
   "execution_count": 52,
   "metadata": {},
   "outputs": [],
   "source": [
    "from utils import *\n",
    "from trackers import *\n",
    "from team_assigner import *\n",
    "from player_ball_assigner import *\n",
    "from camera_movement import *\n",
    "from view_transformation import *\n",
    "from speed_and_distance import *\n",
    "import numpy as np\n",
    "import cv2\n",
    "\n",
    "import os\n",
    "os.environ[\"LOKY_MAX_CPU_COUNT\"] = \"4\""
   ]
  },
  {
   "cell_type": "code",
   "execution_count": 53,
   "metadata": {},
   "outputs": [],
   "source": [
    "frames = read_video('trail_videos/video2.mp4') #here you can play with diferent videos\n",
    "#frames = [cv2.imread('image3.jpg')] #for single images"
   ]
  },
  {
   "cell_type": "code",
   "execution_count": 54,
   "metadata": {},
   "outputs": [
    {
     "name": "stdout",
     "output_type": "stream",
     "text": [
      "\n",
      "0: 384x640 2 balls, 31 players, 1 referee, 22.3ms\n",
      "1: 384x640 1 ball, 33 players, 1 referee, 22.3ms\n",
      "2: 384x640 1 ball, 31 players, 1 referee, 22.3ms\n",
      "3: 384x640 1 ball, 30 players, 1 referee, 22.3ms\n",
      "4: 384x640 1 ball, 27 players, 1 referee, 22.3ms\n",
      "5: 384x640 1 ball, 26 players, 1 referee, 22.3ms\n",
      "6: 384x640 26 players, 1 referee, 22.3ms\n",
      "7: 384x640 27 players, 1 referee, 22.3ms\n",
      "8: 384x640 29 players, 1 referee, 22.3ms\n",
      "9: 384x640 33 players, 1 referee, 22.3ms\n",
      "10: 384x640 37 players, 1 referee, 22.3ms\n",
      "11: 384x640 35 players, 1 referee, 22.3ms\n",
      "12: 384x640 1 ball, 37 players, 1 referee, 22.3ms\n",
      "13: 384x640 1 ball, 33 players, 1 referee, 22.3ms\n",
      "14: 384x640 1 ball, 33 players, 1 referee, 22.3ms\n",
      "15: 384x640 2 balls, 40 players, 1 referee, 22.3ms\n",
      "16: 384x640 1 ball, 36 players, 1 referee, 22.3ms\n",
      "17: 384x640 1 ball, 33 players, 1 referee, 22.3ms\n",
      "18: 384x640 2 balls, 33 players, 1 referee, 22.3ms\n",
      "19: 384x640 2 balls, 34 players, 1 referee, 22.3ms\n",
      "Speed: 1.8ms preprocess, 22.3ms inference, 1.3ms postprocess per image at shape (1, 3, 384, 640)\n",
      "\n",
      "0: 384x640 2 balls, 34 players, 1 referee, 21.8ms\n",
      "1: 384x640 1 ball, 39 players, 1 referee, 21.8ms\n",
      "2: 384x640 1 ball, 32 players, 2 referees, 21.8ms\n",
      "3: 384x640 25 players, 1 referee, 21.8ms\n",
      "4: 384x640 2 balls, 36 players, 3 referees, 21.8ms\n",
      "5: 384x640 1 ball, 26 players, 1 referee, 21.8ms\n",
      "6: 384x640 1 ball, 26 players, 1 referee, 21.8ms\n",
      "7: 384x640 29 players, 1 referee, 21.8ms\n",
      "8: 384x640 1 ball, 35 players, 1 referee, 21.8ms\n",
      "9: 384x640 1 ball, 27 players, 1 referee, 21.8ms\n",
      "10: 384x640 28 players, 1 referee, 21.8ms\n",
      "11: 384x640 26 players, 21.8ms\n",
      "12: 384x640 26 players, 21.8ms\n",
      "13: 384x640 1 ball, 1 goalkeeper, 30 players, 1 referee, 21.8ms\n",
      "14: 384x640 28 players, 1 referee, 21.8ms\n",
      "15: 384x640 25 players, 1 referee, 21.8ms\n",
      "16: 384x640 1 ball, 27 players, 4 referees, 21.8ms\n",
      "17: 384x640 1 ball, 29 players, 3 referees, 21.8ms\n",
      "18: 384x640 1 ball, 29 players, 3 referees, 21.8ms\n",
      "19: 384x640 32 players, 1 referee, 21.8ms\n",
      "Speed: 1.8ms preprocess, 21.8ms inference, 2.6ms postprocess per image at shape (1, 3, 384, 640)\n",
      "\n",
      "0: 384x640 28 players, 1 referee, 21.7ms\n",
      "1: 384x640 1 goalkeeper, 29 players, 1 referee, 21.7ms\n",
      "2: 384x640 23 players, 1 referee, 21.7ms\n",
      "3: 384x640 27 players, 1 referee, 21.7ms\n",
      "4: 384x640 29 players, 1 referee, 21.7ms\n",
      "5: 384x640 25 players, 1 referee, 21.7ms\n",
      "6: 384x640 24 players, 1 referee, 21.7ms\n",
      "7: 384x640 23 players, 21.7ms\n",
      "8: 384x640 27 players, 21.7ms\n",
      "9: 384x640 21 players, 21.7ms\n",
      "10: 384x640 21 players, 21.7ms\n",
      "11: 384x640 22 players, 21.7ms\n",
      "12: 384x640 25 players, 21.7ms\n",
      "13: 384x640 22 players, 21.7ms\n",
      "14: 384x640 23 players, 21.7ms\n",
      "15: 384x640 1 ball, 19 players, 21.7ms\n",
      "16: 384x640 1 ball, 19 players, 21.7ms\n",
      "17: 384x640 1 ball, 1 goalkeeper, 25 players, 21.7ms\n",
      "18: 384x640 20 players, 21.7ms\n",
      "19: 384x640 1 goalkeeper, 22 players, 21.7ms\n",
      "Speed: 1.8ms preprocess, 21.7ms inference, 1.4ms postprocess per image at shape (1, 3, 384, 640)\n",
      "\n",
      "0: 384x640 1 goalkeeper, 17 players, 21.8ms\n",
      "1: 384x640 1 goalkeeper, 20 players, 21.8ms\n",
      "2: 384x640 1 goalkeeper, 20 players, 21.8ms\n",
      "3: 384x640 1 ball, 20 players, 21.8ms\n",
      "4: 384x640 1 goalkeeper, 18 players, 21.8ms\n",
      "5: 384x640 1 ball, 1 goalkeeper, 18 players, 21.8ms\n",
      "6: 384x640 1 ball, 1 goalkeeper, 21 players, 21.8ms\n",
      "7: 384x640 1 ball, 19 players, 21.8ms\n",
      "8: 384x640 1 ball, 19 players, 21.8ms\n",
      "9: 384x640 1 goalkeeper, 24 players, 21.8ms\n",
      "10: 384x640 1 ball, 1 goalkeeper, 18 players, 21.8ms\n",
      "11: 384x640 2 goalkeepers, 22 players, 21.8ms\n",
      "12: 384x640 1 ball, 1 goalkeeper, 25 players, 21.8ms\n",
      "13: 384x640 1 ball, 2 goalkeepers, 21 players, 21.8ms\n",
      "14: 384x640 1 ball, 2 goalkeepers, 21 players, 21.8ms\n",
      "15: 384x640 23 players, 21.8ms\n",
      "16: 384x640 1 ball, 1 goalkeeper, 22 players, 21.8ms\n",
      "17: 384x640 1 ball, 1 goalkeeper, 22 players, 1 referee, 21.8ms\n",
      "18: 384x640 1 ball, 25 players, 1 referee, 21.8ms\n",
      "19: 384x640 24 players, 21.8ms\n",
      "Speed: 1.7ms preprocess, 21.8ms inference, 1.2ms postprocess per image at shape (1, 3, 384, 640)\n",
      "\n",
      "0: 384x640 24 players, 22.0ms\n",
      "1: 384x640 16 players, 1 referee, 22.0ms\n",
      "2: 384x640 1 ball, 18 players, 22.0ms\n",
      "3: 384x640 1 ball, 1 goalkeeper, 23 players, 1 referee, 22.0ms\n",
      "4: 384x640 1 ball, 22 players, 22.0ms\n",
      "5: 384x640 22 players, 22.0ms\n",
      "6: 384x640 21 players, 22.0ms\n",
      "7: 384x640 22 players, 1 referee, 22.0ms\n",
      "8: 384x640 20 players, 22.0ms\n",
      "9: 384x640 1 ball, 20 players, 22.0ms\n",
      "10: 384x640 1 ball, 1 goalkeeper, 21 players, 22.0ms\n",
      "11: 384x640 1 ball, 1 goalkeeper, 23 players, 22.0ms\n",
      "12: 384x640 1 ball, 1 goalkeeper, 23 players, 22.0ms\n",
      "13: 384x640 1 goalkeeper, 19 players, 22.0ms\n",
      "14: 384x640 1 goalkeeper, 22 players, 22.0ms\n",
      "15: 384x640 23 players, 22.0ms\n",
      "16: 384x640 2 balls, 1 goalkeeper, 24 players, 22.0ms\n",
      "17: 384x640 1 ball, 1 goalkeeper, 21 players, 22.0ms\n",
      "18: 384x640 1 ball, 1 goalkeeper, 21 players, 22.0ms\n",
      "19: 384x640 1 ball, 1 goalkeeper, 20 players, 22.0ms\n",
      "Speed: 1.7ms preprocess, 22.0ms inference, 1.6ms postprocess per image at shape (1, 3, 384, 640)\n",
      "\n",
      "0: 384x640 22 players, 26.0ms\n",
      "Speed: 1.3ms preprocess, 26.0ms inference, 2.0ms postprocess per image at shape (1, 3, 384, 640)\n"
     ]
    }
   ],
   "source": [
    "tracker = Tracker('models/yolov5lu/best.pt')\n",
    "tracks = tracker.get_object_tracks(frames, read_from_stub=False, stub_path='stubs/track_stubs.pkl')\n",
    "tracker.add_position_to_tracks(tracks)"
   ]
  },
  {
   "cell_type": "code",
   "execution_count": 55,
   "metadata": {},
   "outputs": [],
   "source": [
    "camera_movement = CameraMovement(frames[0])\n",
    "frames_camera_movement = camera_movement.get_camera_movement(frames)#, read_from_stub=False, stub_path='stubs/camera_movement_stub.pkl')\n",
    "camera_movement.adjust__tracks_positions(tracks, frames_camera_movement)"
   ]
  },
  {
   "cell_type": "code",
   "execution_count": 56,
   "metadata": {},
   "outputs": [],
   "source": [
    "tracks[\"ball\"] = tracker.ball_interpolation(tracks[\"ball\"])"
   ]
  },
  {
   "cell_type": "code",
   "execution_count": 57,
   "metadata": {},
   "outputs": [],
   "source": [
    "speed_dist = SpeedAndDistance_Estimator()\n",
    "#speed_dist.add_speed_and_distance(tracks)"
   ]
  },
  {
   "cell_type": "code",
   "execution_count": 58,
   "metadata": {},
   "outputs": [
    {
     "name": "stderr",
     "output_type": "stream",
     "text": [
      "UserWarning: KMeans is known to have a memory leak on Windows with MKL, when there are less chunks than available threads. You can avoid it by setting the environment variable OMP_NUM_THREADS=1.\n"
     ]
    }
   ],
   "source": [
    "team_assigner = TeamAssigner()\n",
    "team_assigner.assign_team_color(frames[0], tracks[\"players\"][0])\n",
    "\n",
    "for n_frame, player_track in enumerate(tracks[\"players\"]):\n",
    "    for player_id, track in player_track.items():\n",
    "        team = team_assigner.get_player_team(frames[n_frame], track[\"bbox\"], player_id)\n",
    "        tracks[\"players\"][n_frame][player_id][\"team\"] = team\n",
    "        tracks[\"players\"][n_frame][player_id][\"team_color\"] = team_assigner.team_colors[team]"
   ]
  },
  {
   "cell_type": "code",
   "execution_count": 59,
   "metadata": {},
   "outputs": [],
   "source": [
    "player_assigner = PlayerBallAssigner()\n",
    "team_ball_possession = []\n",
    "\n",
    "for n_frame, player_track in enumerate(tracks[\"players\"]):\n",
    "    ball_bbox = tracks[\"ball\"][n_frame][1][\"bbox\"]\n",
    "    closest_player = player_assigner.assign_ball_to_player(player_track, ball_bbox)\n",
    "    \n",
    "    if closest_player != -1:\n",
    "        tracks[\"players\"][n_frame][closest_player][\"ball_possession\"] = True\n",
    "        team_ball_possession.append(tracks[\"players\"][n_frame][closest_player][\"team\"])\n",
    "    else:\n",
    "        team_ball_possession.append(team_ball_possession[-1])\n",
    "    \n",
    "team_ball_possession = np.array(team_ball_possession)"
   ]
  },
  {
   "cell_type": "code",
   "execution_count": 60,
   "metadata": {},
   "outputs": [],
   "source": [
    "output = tracker.draw_annotations(frames, tracks, team_ball_possession)\n",
    "#output = camera_movement.draw_camera_movement(output, frames_camera_movement)\n",
    "output = speed_dist.draw_speed_and_distance(output, tracks)"
   ]
  },
  {
   "cell_type": "code",
   "execution_count": 61,
   "metadata": {},
   "outputs": [],
   "source": [
    "save_video(output, 'output/output_video.mp4')"
   ]
  }
 ],
 "metadata": {
  "kernelspec": {
   "display_name": "torch",
   "language": "python",
   "name": "python3"
  },
  "language_info": {
   "codemirror_mode": {
    "name": "ipython",
    "version": 3
   },
   "file_extension": ".py",
   "mimetype": "text/x-python",
   "name": "python",
   "nbconvert_exporter": "python",
   "pygments_lexer": "ipython3",
   "version": "3.12.3"
  }
 },
 "nbformat": 4,
 "nbformat_minor": 2
}
